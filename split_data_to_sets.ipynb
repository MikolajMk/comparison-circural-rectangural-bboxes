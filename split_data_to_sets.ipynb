{
 "cells": [
  {
   "cell_type": "markdown",
   "metadata": {},
   "source": [
    "This script is responsible for spliting data from raw datasets folder to sets. Each set is saved in it's own folder. Data split is done with use of .txt files. These files contains names of files which should be included in given set. Data is splited in given way:\n",
    "- 80% of data goes to train set\n",
    "- 10% of data goes to validation set\n",
    "- 10% of data goes to test set\n",
    "\n",
    "Data is splited by names form .txt files to make sure that each set is representative and there are no data leakage.\n",
    "\n",
    "Before using script the structure of folder for splited data must be prepared. "
   ]
  },
  {
   "cell_type": "code",
   "execution_count": 1,
   "metadata": {},
   "outputs": [],
   "source": [
    "# Paths to folders with raw data\n",
    "path_annotations_circle_aug = r'datasets_not_splited\\annotations_circle_aug2'\n",
    "path_images_aug = r'datasets_not_splited\\images_aug2'\n",
    "\n",
    "# Paths to folders with .txt files\n",
    "set_test = r'sets_for_dataset_splits\\sets2\\test_aug.txt'\n",
    "set_train = r'sets_for_dataset_splits\\sets2\\train_aug.txt'\n",
    "set_valid = r'sets_for_dataset_splits\\sets2\\val_aug.txt'"
   ]
  },
  {
   "cell_type": "code",
   "execution_count": 2,
   "metadata": {},
   "outputs": [],
   "source": [
    "import os\n",
    "import shutil\n",
    "\n",
    "# Paths to folders with raw data and folder with split data\n",
    "source_image_folder = path_images_aug\n",
    "source_csv_folder = path_annotations_circle_aug\n",
    "destination_folder = r'datasets_splited\\dataset_3'\n",
    "\n",
    "# List of paths to .txt files\n",
    "paths_to_txt_files = [\n",
    "    r'sets_for_dataset_splits\\sets2\\test_aug.txt',\n",
    "    r'sets_for_dataset_splits\\sets2\\train_aug.txt',\n",
    "    r'sets_for_dataset_splits\\sets2\\val_aug.txt'\n",
    "]\n",
    "\n",
    "# Function to move files\n",
    "def move_files(file_names, extension, source_subfolder, destination_subfolder):\n",
    "    for name in file_names:\n",
    "        source_path = os.path.join(source_subfolder, name + extension)\n",
    "        destination_path = os.path.join(destination_subfolder, name + extension)\n",
    "        if os.path.exists(source_path):\n",
    "            shutil.copy(source_path, destination_path)\n",
    "        else:\n",
    "            print(f\"File {source_path} does not exist.\")\n",
    "\n",
    "# Iterate through .txt files and move files according to the lists within them\n",
    "for txt_file_path in paths_to_txt_files:\n",
    "    if os.path.exists(txt_file_path) and txt_file_path.endswith('.txt'):\n",
    "        # Determine the subfolder name based on the txt file name\n",
    "        subfolder_name = os.path.basename(txt_file_path).replace('.txt', '')\n",
    "        destination_image_folder = os.path.join(destination_folder, subfolder_name, 'images')\n",
    "        destination_annotations_folder = os.path.join(destination_folder, subfolder_name, 'annotations')\n",
    "\n",
    "        # Open the txt file and move files\n",
    "        with open(txt_file_path, 'r') as file:\n",
    "            file_names = file.read().splitlines()\n",
    "            move_files(file_names, '.png', source_image_folder, destination_image_folder)\n",
    "            move_files(file_names, '.csv', source_csv_folder, destination_annotations_folder)\n",
    "    else:\n",
    "        print(f\"File {txt_file_path} does not exist or is not a .txt file.\")"
   ]
  }
 ],
 "metadata": {
  "kernelspec": {
   "display_name": "Python 3",
   "language": "python",
   "name": "python3"
  },
  "language_info": {
   "codemirror_mode": {
    "name": "ipython",
    "version": 3
   },
   "file_extension": ".py",
   "mimetype": "text/x-python",
   "name": "python",
   "nbconvert_exporter": "python",
   "pygments_lexer": "ipython3",
   "version": "3.11.6"
  }
 },
 "nbformat": 4,
 "nbformat_minor": 2
}
